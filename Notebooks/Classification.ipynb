{
 "cells": [
  {
   "cell_type": "markdown",
   "metadata": {},
   "source": [
    "# CLASSIFICATION "
   ]
  },
  {
   "cell_type": "code",
   "execution_count": 1,
   "metadata": {},
   "outputs": [
    {
     "name": "stdout",
     "output_type": "stream",
     "text": [
      "{'DESCR': 'mldata.org dataset: mnist-original', 'COL_NAMES': ['label', 'data'], 'target': array([0., 0., 0., ..., 9., 9., 9.]), 'data': array([[0, 0, 0, ..., 0, 0, 0],\n",
      "       [0, 0, 0, ..., 0, 0, 0],\n",
      "       [0, 0, 0, ..., 0, 0, 0],\n",
      "       ...,\n",
      "       [0, 0, 0, ..., 0, 0, 0],\n",
      "       [0, 0, 0, ..., 0, 0, 0],\n",
      "       [0, 0, 0, ..., 0, 0, 0]], dtype=uint8)}\n",
      "shape of X (70000, 784)\n",
      "shape of y (70000,)\n"
     ]
    },
    {
     "name": "stderr",
     "output_type": "stream",
     "text": [
      "C:\\ProgramData\\Anaconda3\\lib\\site-packages\\sklearn\\utils\\deprecation.py:85: DeprecationWarning: Function fetch_mldata is deprecated; fetch_mldata was deprecated in version 0.20 and will be removed in version 0.22. Please use fetch_openml.\n",
      "  warnings.warn(msg, category=DeprecationWarning)\n",
      "C:\\ProgramData\\Anaconda3\\lib\\site-packages\\sklearn\\utils\\deprecation.py:85: DeprecationWarning: Function mldata_filename is deprecated; mldata_filename was deprecated in version 0.20 and will be removed in version 0.22. Please use fetch_openml.\n",
      "  warnings.warn(msg, category=DeprecationWarning)\n"
     ]
    }
   ],
   "source": [
    "# MNIST set - 70000 small images of handwritten digits\n",
    "from sklearn.datasets import fetch_mldata\n",
    "mnist = fetch_mldata('MNIST original')\n",
    "print(mnist)\n",
    "X, y = mnist[\"data\"], mnist[\"target\"]\n",
    "print(\"shape of X\", X.shape)\n",
    "print(\"shape of y\", y.shape)\n",
    "# X is set of 70000 images each image having 784(28*28 pixel) features(0- white, 255-black)."
   ]
  },
  {
   "cell_type": "code",
   "execution_count": 2,
   "metadata": {},
   "outputs": [
    {
     "data": {
      "image/png": "[encoded data removed]",
      "text/plain": [
       "<Figure size 432x288 with 1 Axes>"
      ]
     },
     "metadata": {
      "needs_background": "light"
     },
     "output_type": "display_data"
    },
    {
     "name": "stdout",
     "output_type": "stream",
     "text": [
      "5.0\n"
     ]
    }
   ],
   "source": [
    "%matplotlib inline\n",
    "import matplotlib\n",
    "import matplotlib.pyplot as plt\n",
    "some_digit = X[36000]\n",
    "some_digit_image = some_digit.reshape(28,28)\n",
    "plt.imshow(some_digit_image, cmap = matplotlib.cm.binary, interpolation = \"nearest\")\n",
    "plt.axis(\"off\")\n",
    "plt.show()\n",
    "print(y[36000])"
   ]
  },
  {
   "cell_type": "code",
   "execution_count": 3,
   "metadata": {},
   "outputs": [
    {
     "data": {
      "image/png": "[encoded data removed]",
      "text/plain": [
       "<Figure size 432x288 with 1 Axes>"
      ]
     },
     "metadata": {
      "needs_background": "light"
     },
     "output_type": "display_data"
    }
   ],
   "source": [
    "import random\n",
    "import numpy as np\n",
    "arr = np.array([random.randrange(0, 255) for iter in range(784)])\n",
    "%matplotlib inline\n",
    "import matplotlib\n",
    "import matplotlib.pyplot as plt\n",
    "arr = arr.reshape(28,28)\n",
    "plt.imshow(arr, cmap = plt.get_cmap(\"plasma\")) #https://matplotlib.org/gallery/color/colormap_reference.html\n",
    "plt.axis(\"off\")\n",
    "plt.show()"
   ]
  },
  {
   "cell_type": "code",
   "execution_count": 4,
   "metadata": {},
   "outputs": [],
   "source": [
    "#test set is last 10000 images.\n",
    "X_train, y_train, X_test, y_test = X[:60000], y[:60000], X[60000:], y[60000:]\n",
    "#shuffle the training dataset to guarantee all cross-validation folds are similar.\n",
    "import numpy as np\n",
    "shuffle_index = np.random.permutation(60000)\n",
    "X_train, y_train = X_train[shuffle_index], y_train[shuffle_index]"
   ]
  },
  {
   "cell_type": "markdown",
   "metadata": {},
   "source": [
    "### 1. Training a Binary Classifier"
   ]
  },
  {
   "cell_type": "code",
   "execution_count": 5,
   "metadata": {},
   "outputs": [
    {
     "name": "stdout",
     "output_type": "stream",
     "text": [
      "[ True]\n"
     ]
    }
   ],
   "source": [
    "#picture is number 5 or not\n",
    "#target vector -> true for 5s, False for others\n",
    "y_train_5 = (y_train == 5)\n",
    "y_test_5 = (y_test == 5)\n",
    "\n",
    "\n",
    "# Stochastic Gradient Descent(SGD) classifier\n",
    "# it deals with very large datasets efficiently.. deals with training instances independently, one at a time.\n",
    "from sklearn.linear_model import SGDClassifier\n",
    "sgd_clf = SGDClassifier(random_state = 42) # random_state is used for reproducing the same results\n",
    "sgd_clf.fit(X_train, y_train_5)\n",
    "print(sgd_clf.predict([some_digit]))\n"
   ]
  },
  {
   "cell_type": "markdown",
   "metadata": {},
   "source": [
    "### 2. Performance measure for Binary Classifier"
   ]
  },
  {
   "cell_type": "code",
   "execution_count": 6,
   "metadata": {},
   "outputs": [
    {
     "name": "stdout",
     "output_type": "stream",
     "text": [
      "0.9643\n",
      "0.96915\n",
      "0.93435\n"
     ]
    }
   ],
   "source": [
    "#Implementing Cross vallidation of your own.\n",
    "#to have better control over the process.\n",
    "\n",
    "from sklearn.model_selection import StratifiedKFold\n",
    "from sklearn.base import clone\n",
    "skfolds = StratifiedKFold(n_splits =3, random_state=42)\n",
    "for train_index, test_index in skfolds.split(X_train, y_train_5):\n",
    "    clone_clf = clone(sgd_clf)\n",
    "    X_train_folds = X_train[train_index]\n",
    "    y_train_folds = (y_train_5[train_index])\n",
    "    X_test_fold = X_train[test_index]\n",
    "    y_test_fold = (y_train_5[test_index])\n",
    "    clone_clf.fit(X_train_folds, y_train_folds)\n",
    "    y_pred = clone_clf.predict(X_test_fold)\n",
    "    n_correct = sum(y_pred == y_test_fold)\n",
    "    print(n_correct/len(y_pred))\n",
    "#StratifiedKFold class performs stratified sampling to produce folds that contain representative ratio of each class.\n",
    "#Anyways we should continnue with cross_val_score()"
   ]
  },
  {
   "cell_type": "code",
   "execution_count": 7,
   "metadata": {},
   "outputs": [
    {
     "name": "stdout",
     "output_type": "stream",
     "text": [
      "[0.9643  0.96915 0.93435]\n"
     ]
    }
   ],
   "source": [
    "from sklearn.model_selection import cross_val_score\n",
    "print(cross_val_score(sgd_clf, X_train, y_train_5, cv =3, scoring = \"accuracy\")) \n",
    "# Scoring should be accuracy instead of mean squared error in classification problems"
   ]
  },
  {
   "cell_type": "markdown",
   "metadata": {},
   "source": [
    "###### why we dont use cross_validation in these cases?\n",
    "Because it is a skewed dataset (when some classes are much more frequent than others) ... Even if we give all false for 5 it will be 90% accurate.\n",
    "#### Confusion Matrix"
   ]
  },
  {
   "cell_type": "code",
   "execution_count": 8,
   "metadata": {},
   "outputs": [
    {
     "name": "stdout",
     "output_type": "stream",
     "text": [
      "[[52730  1849]\n",
      " [  795  4626]]\n",
      "[[54579     0]\n",
      " [    0  5421]]\n"
     ]
    }
   ],
   "source": [
    "#cross_val_predict - Returns k-fold cross validation and returns predictions made on each validation set instead of score.\n",
    "from sklearn.model_selection import cross_val_predict\n",
    "y_train_predict = cross_val_predict(sgd_clf, X_train, y_train_5, cv=3)\n",
    "# we get a clean prediction for each instance in the dataset.\n",
    "# clean prediction - model didn't saw that data during training.\n",
    "from sklearn.metrics import confusion_matrix\n",
    "print(confusion_matrix(y_train_5, y_train_predict)) #actual values, predicted values.\n",
    "print(confusion_matrix(y_train_5, y_train_5))"
   ]
  },
  {
   "cell_type": "markdown",
   "metadata": {},
   "source": [
    "- Each row represents actual class, while each columns represents predicted class.\n",
    "- first row contains \"False\" of y_train_5, and first column contains \"False\" of y_train_predict.\n",
    "- [[TN, FP], [FN, TP]]"
   ]
  },
  {
   "cell_type": "markdown",
   "metadata": {},
   "source": [
    "##### Precision = TP / (TP+FP)\n",
    "- Would fail if classifier predicts 1 positive which turns out to be TP.\n",
    "- high precision -> full confidence in the true prediction\n",
    "\n",
    "##### Recall = TP / (TP+FN)\n",
    "- Sensetivity or True Positive Rate(TPR)\n",
    "- Ratio of positive instances correctly detected by the classifier\n",
    "- High recall -> some false alarms are fine, but false negatives should be minimized.\n",
    "\n",
    "##### F1 = 2 * Precision*Recall / (Precision+Recall)\n",
    "- Harmonic mean of both the values\n",
    "- F1 value will be high only if both the values are high"
   ]
  },
  {
   "cell_type": "code",
   "execution_count": 9,
   "metadata": {},
   "outputs": [
    {
     "name": "stdout",
     "output_type": "stream",
     "text": [
      "0.7144401544401544\n",
      "0.8533480907581626\n",
      "0.7777404169468729\n"
     ]
    }
   ],
   "source": [
    "from sklearn.metrics import precision_score, recall_score, f1_score\n",
    "print(precision_score(y_train_5, y_train_predict))\n",
    "print(recall_score(y_train_5, y_train_predict))\n",
    "#combine both of them\n",
    "print(f1_score(y_train_5,y_train_predict))"
   ]
  },
  {
   "cell_type": "markdown",
   "metadata": {},
   "source": [
    "#### Precision/Recall Tradeoff\n",
    "In some cases only one of these component is important, other is not ... Increasing precision reduces recall and vice-versa\n",
    "##### Decision score \n",
    "- computed on basis of decision  function, True if the score crosses the threshold.(Decision Threshold)\n",
    "- Low decision threshold -> High Recall\n",
    "- High decision threshold -> High Precision"
   ]
  },
  {
   "cell_type": "code",
   "execution_count": 10,
   "metadata": {},
   "outputs": [
    {
     "name": "stdout",
     "output_type": "stream",
     "text": [
      "Decision score for single instance [1759.63733982]\n"
     ]
    }
   ],
   "source": [
    "#Decision score for single instance\n",
    "y_scores = sgd_clf.decision_function([some_digit])\n",
    "print(\"Decision score for single instance\", y_scores)\n",
    "# Get precision scores for all instances using cross_val_predict, decision_function method\n",
    "y_scores = cross_val_predict(sgd_clf, X_train, y_train_5, cv = 3, method = \"decision_function\")"
   ]
  },
  {
   "cell_type": "code",
   "execution_count": 11,
   "metadata": {},
   "outputs": [
    {
     "data": {
      "image/png": "[encoded data removed]",
      "text/plain": [
       "<Figure size 432x288 with 1 Axes>"
      ]
     },
     "metadata": {
      "needs_background": "light"
     },
     "output_type": "display_data"
    }
   ],
   "source": [
    "# precision_recall_curve() -> calculate precision and recall for all possible threshold.\n",
    "from sklearn.metrics import precision_recall_curve\n",
    "precision, recall, threshold = precision_recall_curve(y_train_5, y_scores)\n",
    "def plot_precision_recall_vs_threshold(precision, recall, threshold):\n",
    "    plt.plot(threshold, precision[:-1], \"b--\", label=\"precision\")\n",
    "    plt.plot(threshold, recall[:-1], \"g-\", label=\"recall\")\n",
    "    plt.xlabel(\"Threshold\")\n",
    "    plt.legend(loc=\"upper left\")\n",
    "    plt.ylim([0,1])\n",
    "    \n",
    "plot_precision_recall_vs_threshold(precision, recall, threshold)\n",
    "plt.show()"
   ]
  },
  {
   "cell_type": "markdown",
   "metadata": {},
   "source": [
    "- why precision curve is bumpy?\n",
    "\n",
    "suppose a list of images with increasing order of decision threshold, 8 7 3 9 5 2 2 5 6 5 5 5. Generally it should increase, but if we shift the threshold from 5th to 6th image, FP will remain same, while TP decreases resulting in decreased precision. "
   ]
  },
  {
   "cell_type": "code",
   "execution_count": 12,
   "metadata": {},
   "outputs": [
    {
     "data": {
      "image/png": "[encoded data removed]",
      "text/plain": [
       "<Figure size 432x288 with 1 Axes>"
      ]
     },
     "metadata": {
      "needs_background": "light"
     },
     "output_type": "display_data"
    }
   ],
   "source": [
    "# now we can select threshold value that gives the best precision/recall tradeoff.\n",
    "# we can also make a precision vs recall curve to get more clear vision\n",
    "def plot_recall_vs_precision(recall, precision):\n",
    "    plt.plot(recall, precision)\n",
    "    plt.xlabel(\"Recall\")\n",
    "    plt.ylabel(\"Precision\")\n",
    "plot_recall_vs_precision(recall, precision)\n",
    "plt.show()"
   ]
  },
  {
   "cell_type": "markdown",
   "metadata": {},
   "source": [
    "###### How data scientists talk\n",
    "- Client : \"let's reach 99% precision.\"\n",
    "- Me : \"At what Recall?\""
   ]
  },
  {
   "cell_type": "markdown",
   "metadata": {},
   "source": [
    "### 3. The ROC Curve (Receiver Operating Characteristic)\n",
    "- False Positive Rate vs Recall\n",
    "- FPR vs TPR \n",
    "\n",
    "##### False Positive rate = FP/(FP+TN)\n",
    "##### Specificity = TN/(FP+TN)\n",
    "- Also known as True Negative Rate\n",
    "- FPR = 1- Specificity"
   ]
  },
  {
   "cell_type": "code",
   "execution_count": 13,
   "metadata": {},
   "outputs": [
    {
     "data": {
      "image/png": "[encoded data removed]",
      "text/plain": [
       "<Figure size 432x288 with 1 Axes>"
      ]
     },
     "metadata": {
      "needs_background": "light"
     },
     "output_type": "display_data"
    }
   ],
   "source": [
    "from sklearn.metrics import roc_curve\n",
    "fpr, tpr, threshold = roc_curve(y_train_5, y_scores) #Actual instance, their decision score\n",
    "def plot_roc_curve(fpr, tpr, label=None):\n",
    "    plt.plot(fpr, tpr, linewidth = 2, label=label)\n",
    "    plt.plot([0,1],[0,1],\"k--\")\n",
    "    plt.axis([0,1,0,1]) # axis has 4 parameters xmin, xmax, ymin, ymax\n",
    "    plt.xlabel('False Positive Rate')\n",
    "    plt.ylabel('True Positive Rate')\n",
    "    \n",
    "plot_roc_curve(fpr, tpr)\n",
    "plt.show()"
   ]
  },
  {
   "cell_type": "markdown",
   "metadata": {},
   "source": [
    "##### Higher the Recall -> more False Positive the classifier produces.\n",
    "- Dotted line represents the ROC curve of a purely random classifier.\n",
    "- A good classifier stays far away from the line (towards the top-left corner)"
   ]
  },
  {
   "cell_type": "code",
   "execution_count": 14,
   "metadata": {},
   "outputs": [
    {
     "name": "stdout",
     "output_type": "stream",
     "text": [
      "AUC Score- 0.9653908422167382\n"
     ]
    }
   ],
   "source": [
    "# One way to compare classifiers is to meassure AUC -> Area Under Curve.\n",
    "# perfect classifier -> AUC = 1\n",
    "# purely random classifier -> AUC = 0.5\n",
    "from sklearn.metrics import roc_auc_score\n",
    "print(\"AUC Score-\", roc_auc_score(y_train_5, y_scores))"
   ]
  },
  {
   "cell_type": "markdown",
   "metadata": {},
   "source": [
    "##### When to use ROC curve and when to use Precision/Recall curve?\n",
    "- Prefer PR Curve.\n",
    "    - Positive Class is rare.\n",
    "    - We care more about false positives than false negative.\n",
    "    - For example : in previous case ROC curve is giving high score but from PR curve we know that there is room for improvement.\n",
    "- Prefer ROC curve.\n",
    "    - Equal positive and negative instances.\n",
    "    \n",
    "- Perfect classifier -> True positive rate was 1 (FN=0), when False Positive rate was 0 (FP=0), Hence AUC=1.\n",
    "- But in case of skewed datasets like the one we are using, Even when number of FP is high the ratio remains low because TN>>FP.\n",
    "- Purely random classifier TPR = FPR, TP/(TP+FN) = FP(FP+TN)"
   ]
  },
  {
   "cell_type": "code",
   "execution_count": 15,
   "metadata": {},
   "outputs": [
    {
     "name": "stderr",
     "output_type": "stream",
     "text": [
      "C:\\ProgramData\\Anaconda3\\lib\\site-packages\\sklearn\\ensemble\\forest.py:245: FutureWarning: The default value of n_estimators will change from 10 in version 0.20 to 100 in 0.22.\n",
      "  \"10 in version 0.20 to 100 in 0.22.\", FutureWarning)\n",
      "C:\\ProgramData\\Anaconda3\\lib\\site-packages\\sklearn\\ensemble\\forest.py:245: FutureWarning: The default value of n_estimators will change from 10 in version 0.20 to 100 in 0.22.\n",
      "  \"10 in version 0.20 to 100 in 0.22.\", FutureWarning)\n",
      "C:\\ProgramData\\Anaconda3\\lib\\site-packages\\sklearn\\ensemble\\forest.py:245: FutureWarning: The default value of n_estimators will change from 10 in version 0.20 to 100 in 0.22.\n",
      "  \"10 in version 0.20 to 100 in 0.22.\", FutureWarning)\n"
     ]
    },
    {
     "data": {
      "image/png": "[encoded data removed]",
      "text/plain": [
       "<Figure size 432x288 with 1 Axes>"
      ]
     },
     "metadata": {
      "needs_background": "light"
     },
     "output_type": "display_data"
    }
   ],
   "source": [
    "# Comparision of random forest and sgd classifier via ROC curve and AUC score.\n",
    "# RandomForestClassifier doesn't have decision_function() it has predict_proba() method.(Scikit-learn classifiers have one or another)\n",
    "# predict_proba() -> array containing row per instance, column per class\n",
    "# i.e what is the probability that a particular instance belong to a particular class.\n",
    "from sklearn.ensemble import RandomForestClassifier\n",
    "forest_clf = RandomForestClassifier(random_state=42)\n",
    "y_probas_forest = cross_val_predict(forest_clf, X_train, y_train_5, cv=3, method = \"predict_proba\")\n",
    "# 0th column -> probability of data to give false.\n",
    "# 1st column -> probability of data to give true.\n",
    "# To obtain scores from predict_proba() lets pick up the probability of an instance to be true.\n",
    "y_scores_forest = y_probas_forest[:, 1]\n",
    "fpr_forest, tpr_forest, threshold_forest = roc_curve(y_train_5, y_scores_forest)\n",
    "# Plot ROC curve and compare\n",
    "plt.plot(fpr, tpr, \"b:\", label=\"SGD\")\n",
    "plot_roc_curve(fpr_forest, tpr_forest, \"Random Forest\")\n",
    "plt.legend(loc = \"lower right\")\n",
    "plt.show()"
   ]
  },
  {
   "cell_type": "code",
   "execution_count": 16,
   "metadata": {},
   "outputs": [
    {
     "data": {
      "image/png": "[encoded data removed]",
      "text/plain": [
       "<Figure size 432x288 with 1 Axes>"
      ]
     },
     "metadata": {
      "needs_background": "light"
     },
     "output_type": "display_data"
    },
    {
     "name": "stdout",
     "output_type": "stream",
     "text": [
      "AUC score- 0.9926235875604891\n"
     ]
    },
    {
     "name": "stderr",
     "output_type": "stream",
     "text": [
      "C:\\ProgramData\\Anaconda3\\lib\\site-packages\\sklearn\\ensemble\\forest.py:245: FutureWarning: The default value of n_estimators will change from 10 in version 0.20 to 100 in 0.22.\n",
      "  \"10 in version 0.20 to 100 in 0.22.\", FutureWarning)\n",
      "C:\\ProgramData\\Anaconda3\\lib\\site-packages\\sklearn\\ensemble\\forest.py:245: FutureWarning: The default value of n_estimators will change from 10 in version 0.20 to 100 in 0.22.\n",
      "  \"10 in version 0.20 to 100 in 0.22.\", FutureWarning)\n",
      "C:\\ProgramData\\Anaconda3\\lib\\site-packages\\sklearn\\ensemble\\forest.py:245: FutureWarning: The default value of n_estimators will change from 10 in version 0.20 to 100 in 0.22.\n",
      "  \"10 in version 0.20 to 100 in 0.22.\", FutureWarning)\n"
     ]
    },
    {
     "name": "stdout",
     "output_type": "stream",
     "text": [
      "Precision score- 0.98342175066313\n",
      "Recall score- 0.8206972883231876\n"
     ]
    }
   ],
   "source": [
    "# Random Forest works best\n",
    "precision, recall, threshold = precision_recall_curve(y_train_5, y_scores_forest)\n",
    "plot_precision_recall_vs_threshold(precision, recall, threshold)\n",
    "plt.show()\n",
    "# AUC score\n",
    "print(\"AUC score-\",roc_auc_score(y_train_5, y_scores_forest))\n",
    "y_train_predict_forest = cross_val_predict(forest_clf, X_train, y_train_5, cv=3)\n",
    "# Precision score\n",
    "print(\"Precision score-\",precision_score(y_train_5, y_train_predict_forest))\n",
    "# Recall score\n",
    "print(\"Recall score-\",recall_score(y_train_5, y_train_predict_forest))"
   ]
  },
  {
   "cell_type": "markdown",
   "metadata": {},
   "source": [
    "- For setting custom Threshold, on the basis of PR threshold curve\n",
    "    - y_probas_forest = cross_val_predict(forest_clf, X_train, y_train_5, cv=3, method = \"predict_proba\")\n",
    "    - y_scores_forest = y_probas_forest[:, 1]\n",
    "    - y_train_predict_forest = (y_scores_forest > 0.4)"
   ]
  },
  {
   "cell_type": "markdown",
   "metadata": {},
   "source": [
    "#### How to train binary classifiers? (summary)\n",
    "- Choose the appropriate metric for your task.\n",
    "- Evaluate using cross validation.\n",
    "- Select the precision/recall tradeoff that fits your need.\n",
    "- Compare various models using ROC curves and AUC scores."
   ]
  },
  {
   "cell_type": "markdown",
   "metadata": {},
   "source": [
    "### 4. Multi-Class Classification\n",
    "- Multi Class or multinomial classifier can distinguish between more than two classes.\n",
    "- Some algo such as Random Forest Classifiers or naive Bayes classifiers are capable of handling multiple classes.\n",
    "- Others such as SVM classifier or Linear classifier are strictly binary classifier.\n",
    "\n",
    "##### There are many strategies to perform multiclass classification using multiple binary classifiers.\n",
    "- ##### One vs One (OvO) strategy\n",
    "    - Train a binary classifier on every pair of digits and keep and run it through all the classifiers to see which class wins most number of duels.\n",
    "    - ###### Disadvantage : \n",
    "        - For N classifiers we need to train N*(N-1)/2 classifiers.\n",
    "        - For most binay classifier OvO is not preferred.\n",
    "    - ###### Advantages :\n",
    "        - Classifier only needs to be trained on part of the training set for the two classes.\n",
    "        - Some Algo (eg- SVM Classifier) scale poorly with size of training set. So, OvO can solve the problem.\n",
    "- ##### One vs All (OvA) strategy\n",
    "    - Train N binary classifier, and for a single data compare decision score of each and every classifier. Highest win.\\\n",
    "    - Used on most of the binary classifiers.\n",
    "    \n",
    "Scikit Learn detects when we try to use binary classifier for multiclass and automatically runs OvA. OvO in case of SVM."
   ]
  },
  {
   "cell_type": "code",
   "execution_count": 17,
   "metadata": {},
   "outputs": [
    {
     "name": "stdout",
     "output_type": "stream",
     "text": [
      "Prediction - [5.]\n",
      "Decision Scores - [[ -5261.15740152 -24395.30283283  -7567.5580189   -3159.93481056\n",
      "  -17266.33941917    708.52154798 -27183.97826583 -14530.27538155\n",
      "  -15296.32418256 -11392.24228234]]\n",
      "Argument with maximum decision score - 5\n",
      "List of classes - [0. 1. 2. 3. 4. 5. 6. 7. 8. 9.]\n",
      "Class with maximum probability - 5.0\n"
     ]
    }
   ],
   "source": [
    "sgd_clf.fit(X_train, y_train)\n",
    "print(\"Prediction -\",sgd_clf.predict([some_digit]))\n",
    "# 10 classifiers are trained to give predictions for each possibility\n",
    "# The decision function will now give array of 10 decision scores, maximum of which will be selected.\n",
    "some_digit_scores = sgd_clf.decision_function([some_digit])\n",
    "print(\"Decision Scores -\",some_digit_scores)\n",
    "# we can select the argument which has maximum decision score\n",
    "print(\"Argument with maximum decision score -\",np.argmax(some_digit_scores))\n",
    "# We can see the different classes for which the classifiers are trained.\n",
    "print(\"List of classes -\",sgd_clf.classes_)\n",
    "# Finally we can obtain the predicted class using argument for which we obtained maximum decision score\n",
    "print(\"Class with maximum probability -\",sgd_clf.classes_[np.argmax(some_digit_scores)])"
   ]
  },
  {
   "cell_type": "code",
   "execution_count": 18,
   "metadata": {},
   "outputs": [
    {
     "name": "stdout",
     "output_type": "stream",
     "text": [
      "[5.]\n",
      "45\n"
     ]
    }
   ],
   "source": [
    "# sklearn has classes for OneVsOneClassifier and OneVsRestClassifier.\n",
    "# Create an instance and pass a binary classifier to its constructor.\n",
    "from sklearn.multiclass import OneVsOneClassifier\n",
    "# Pass the classifier to the constructor and fit the training data\n",
    "ovo_clf = OneVsOneClassifier(SGDClassifier(random_state=42))\n",
    "ovo_clf.fit(X_train, y_train)\n",
    "print(ovo_clf.predict([some_digit]))\n",
    "# Total N*(N-1)/2 estimators(classifiers) are trained\n",
    "print(len(ovo_clf.estimators_))"
   ]
  },
  {
   "cell_type": "code",
   "execution_count": 19,
   "metadata": {
    "scrolled": true
   },
   "outputs": [
    {
     "name": "stderr",
     "output_type": "stream",
     "text": [
      "C:\\ProgramData\\Anaconda3\\lib\\site-packages\\sklearn\\ensemble\\forest.py:245: FutureWarning: The default value of n_estimators will change from 10 in version 0.20 to 100 in 0.22.\n",
      "  \"10 in version 0.20 to 100 in 0.22.\", FutureWarning)\n"
     ]
    },
    {
     "name": "stdout",
     "output_type": "stream",
     "text": [
      "[5.]\n",
      "[[0.1 0.  0.  0.  0.  0.9 0.  0.  0.  0. ]]\n"
     ]
    }
   ],
   "source": [
    "# Training a random forest classifier\n",
    "# Random forest doesn't need ovo or ova because it supports multi-class classification.\n",
    "forest_clf.fit(X_train,y_train)\n",
    "print(forest_clf.predict([some_digit]))\n",
    "#predict_proba can be used to see the probability of each and every digit\n",
    "print(forest_clf.predict_proba([some_digit]))"
   ]
  },
  {
   "cell_type": "code",
   "execution_count": 20,
   "metadata": {},
   "outputs": [
    {
     "name": "stderr",
     "output_type": "stream",
     "text": [
      "C:\\ProgramData\\Anaconda3\\lib\\site-packages\\sklearn\\model_selection\\_split.py:1978: FutureWarning: The default value of cv will change from 3 to 5 in version 0.22. Specify it explicitly to silence this warning.\n",
      "  warnings.warn(CV_WARNING, FutureWarning)\n"
     ]
    },
    {
     "name": "stdout",
     "output_type": "stream",
     "text": [
      "Scores for sgd_classifier - [0.87572486 0.83274164 0.86983047]\n"
     ]
    },
    {
     "name": "stderr",
     "output_type": "stream",
     "text": [
      "C:\\ProgramData\\Anaconda3\\lib\\site-packages\\sklearn\\model_selection\\_split.py:1978: FutureWarning: The default value of cv will change from 3 to 5 in version 0.22. Specify it explicitly to silence this warning.\n",
      "  warnings.warn(CV_WARNING, FutureWarning)\n",
      "C:\\ProgramData\\Anaconda3\\lib\\site-packages\\sklearn\\linear_model\\stochastic_gradient.py:561: ConvergenceWarning: Maximum number of iteration reached before convergence. Consider increasing max_iter to improve the fit.\n",
      "  ConvergenceWarning)\n",
      "C:\\ProgramData\\Anaconda3\\lib\\site-packages\\sklearn\\linear_model\\stochastic_gradient.py:561: ConvergenceWarning: Maximum number of iteration reached before convergence. Consider increasing max_iter to improve the fit.\n",
      "  ConvergenceWarning)\n"
     ]
    },
    {
     "name": "stdout",
     "output_type": "stream",
     "text": [
      "Scores for sgd_classifier after scaling - [0.90311938 0.9059453  0.9006851 ]\n"
     ]
    },
    {
     "name": "stderr",
     "output_type": "stream",
     "text": [
      "C:\\ProgramData\\Anaconda3\\lib\\site-packages\\sklearn\\linear_model\\stochastic_gradient.py:561: ConvergenceWarning: Maximum number of iteration reached before convergence. Consider increasing max_iter to improve the fit.\n",
      "  ConvergenceWarning)\n"
     ]
    }
   ],
   "source": [
    "# Let's measure accuracy of sgd_classifier \n",
    "print(\"Scores for sgd_classifier -\",cross_val_score(sgd_clf, X_train, y_train, scoring=\"accuracy\"))\n",
    "# We can increase the accuracy by simply scaling the data.\n",
    "from sklearn.preprocessing import StandardScaler\n",
    "scaler = StandardScaler()\n",
    "X_train_scaled = scaler.fit_transform(X_train) # Keep a habit of passing X_train.astype(np.float64)\n",
    "print(\"Scores for sgd_classifier after scaling -\",cross_val_score(sgd_clf, X_train_scaled, y_train, scoring=\"accuracy\"))"
   ]
  },
  {
   "cell_type": "markdown",
   "metadata": {},
   "source": [
    "### 5. Error Analysis\n",
    "- Error Analysis is a way to improve the performance of our model.\n",
    "\n",
    "#### Confusion Matrix"
   ]
  },
  {
   "cell_type": "code",
   "execution_count": 21,
   "metadata": {},
   "outputs": [
    {
     "name": "stderr",
     "output_type": "stream",
     "text": [
      "C:\\ProgramData\\Anaconda3\\lib\\site-packages\\sklearn\\linear_model\\stochastic_gradient.py:561: ConvergenceWarning: Maximum number of iteration reached before convergence. Consider increasing max_iter to improve the fit.\n",
      "  ConvergenceWarning)\n",
      "C:\\ProgramData\\Anaconda3\\lib\\site-packages\\sklearn\\linear_model\\stochastic_gradient.py:561: ConvergenceWarning: Maximum number of iteration reached before convergence. Consider increasing max_iter to improve the fit.\n",
      "  ConvergenceWarning)\n",
      "C:\\ProgramData\\Anaconda3\\lib\\site-packages\\sklearn\\linear_model\\stochastic_gradient.py:561: ConvergenceWarning: Maximum number of iteration reached before convergence. Consider increasing max_iter to improve the fit.\n",
      "  ConvergenceWarning)\n"
     ]
    },
    {
     "name": "stdout",
     "output_type": "stream",
     "text": [
      "[[5606    0   15    7   10   41   38    6  199    1]\n",
      " [   1 6435   41   24    3   41    5   10  172   10]\n",
      " [  29   25 5245  100   77   22   71   38  342    9]\n",
      " [  25   15  109 5272    1  221   29   38  354   67]\n",
      " [  15   14   44   11 5274    9   39   18  274  144]\n",
      " [  27   16   27  161   56 4519   81   15  453   66]\n",
      " [  30   20   45    3   42   90 5562    8  118    0]\n",
      " [  21   16   56   27   50   13    4 5716  144  218]\n",
      " [  17   69   40   98    6  116   32    8 5418   47]\n",
      " [  21   24   33   64  127   38    1  186  307 5148]]\n",
      "GRAPHICAL REPRESENTATION\n"
     ]
    },
    {
     "data": {
      "image/png": "[encoded data removed]",
      "text/plain": [
       "<Figure size 288x288 with 1 Axes>"
      ]
     },
     "metadata": {
      "needs_background": "light"
     },
     "output_type": "display_data"
    }
   ],
   "source": [
    "# obtain predictions on training set using cross_val_predict.\n",
    "y_train_predict = cross_val_predict(sgd_clf, X_train_scaled, y_train, cv=3)\n",
    "# Row represents actual class and column represents predicted class.\n",
    "conf_mx = confusion_matrix(y_train, y_train_predict)\n",
    "print(conf_mx)\n",
    "print(\"GRAPHICAL REPRESENTATION\")\n",
    "plt.matshow(conf_mx, cmap=plt.cm.gray)\n",
    "plt.show()"
   ]
  },
  {
   "cell_type": "markdown",
   "metadata": {},
   "source": [
    "###### Points to notice :\n",
    "- The block along diagonal which is darker requires more training or data.\n",
    "- let's focus on plotting the error rather than plotting the TPs.\n",
    "    - Normalise the values in confusion matrix by dividing by number of images in corresponding class."
   ]
  },
  {
   "cell_type": "code",
   "execution_count": 22,
   "metadata": {},
   "outputs": [
    {
     "name": "stdout",
     "output_type": "stream",
     "text": [
      "[[5923]\n",
      " [6742]\n",
      " [5958]\n",
      " [6131]\n",
      " [5842]\n",
      " [5421]\n",
      " [5918]\n",
      " [6265]\n",
      " [5851]\n",
      " [5949]]\n"
     ]
    },
    {
     "data": {
      "image/png": "[encoded data removed]",
      "text/plain": [
       "<Figure size 288x288 with 1 Axes>"
      ]
     },
     "metadata": {
      "needs_background": "light"
     },
     "output_type": "display_data"
    }
   ],
   "source": [
    "row_sums = conf_mx.sum(axis=1, keepdims=True)\n",
    "print(row_sums)\n",
    "norm_conf_mx = conf_mx/row_sums\n",
    "#fill the diagonal with zero to plot only the errors.\n",
    "np.fill_diagonal(norm_conf_mx, 0)\n",
    "plt.matshow(norm_conf_mx, cmap=plt.cm.gray)\n",
    "plt.show()"
   ]
  },
  {
   "cell_type": "markdown",
   "metadata": {},
   "source": [
    "###### Observations:\n",
    "- rows -> actual class, column -> predicted class\n",
    "- Many images got misclassified as 8,9.\n",
    "- Eforts should be made to improve the classification on 8 and 9.\n",
    "    - New features such as \"closed loop\" can be used to distinguish between two digits.\n",
    "    - Can preprocess the image to make some feature stand out more(eg - closed loop), using OpenCV, pillow or scikit-image.\n",
    "- Symmitrical misclassification (3 identified as 5 ~= 5 identified as 3) also exists.\n",
    "\n",
    "###### Analysing individual errors:"
   ]
  },
  {
   "cell_type": "code",
   "execution_count": 23,
   "metadata": {},
   "outputs": [],
   "source": [
    "# Understand this function ...\n",
    "\n",
    "import matplotlib as mpl\n",
    "def plot_digits(instances, images_per_row=10, **options):\n",
    "    size = 28\n",
    "    images_per_row = min(len(instances), images_per_row)\n",
    "    images = [instance.reshape(size,size) for instance in instances]\n",
    "    n_rows = (len(instances) - 1) // images_per_row + 1\n",
    "    row_images = []\n",
    "    n_empty = n_rows * images_per_row - len(instances)\n",
    "    images.append(np.zeros((size, size * n_empty)))\n",
    "    for row in range(n_rows):\n",
    "        rimages = images[row * images_per_row : (row + 1) * images_per_row]\n",
    "        row_images.append(np.concatenate(rimages, axis=1))\n",
    "    image = np.concatenate(row_images, axis=0)\n",
    "    plt.imshow(image, cmap = mpl.cm.binary, **options)\n",
    "    plt.axis(\"off\")"
   ]
  },
  {
   "cell_type": "code",
   "execution_count": 24,
   "metadata": {},
   "outputs": [
    {
     "data": {
      "image/png": "[encoded data removed]",
      "text/plain": [
       "<Figure size 576x576 with 4 Axes>"
      ]
     },
     "metadata": {
      "needs_background": "light"
     },
     "output_type": "display_data"
    }
   ],
   "source": [
    "cls_a, cls_b = 3,5\n",
    "X_aa = X_train[(y_train==cls_a) & (y_train_predict == cls_a)]\n",
    "X_ab = X_train[(y_train==cls_a) & (y_train_predict == cls_b)]\n",
    "X_ba = X_train[(y_train==cls_b) & (y_train_predict == cls_a)]\n",
    "X_bb = X_train[(y_train==cls_b) & (y_train_predict == cls_b)]\n",
    "\n",
    "\n",
    "plt.figure(figsize=(8,8))\n",
    "plt.subplot(221); plot_digits(X_aa[:25], images_per_row=5)\n",
    "plt.subplot(222); plot_digits(X_ab[:25], images_per_row=5)\n",
    "plt.subplot(223); plot_digits(X_ba[:25], images_per_row=5)\n",
    "plt.subplot(224); plot_digits(X_bb[:25], images_per_row=5)\n",
    "plt.show()"
   ]
  },
  {
   "cell_type": "markdown",
   "metadata": {},
   "source": [
    "### 6. Multilabel Classification"
   ]
  },
  {
   "cell_type": "markdown",
   "metadata": {},
   "source": [
    "- Sometimes we may want to predict multiple labels for our single instance.\n",
    "- eg. if a selected instance is greater than 5?(1) and is it a odd number?(2)\n",
    "- The systems that outputs **Multiple Binary Labels.**  \n"
   ]
  },
  {
   "cell_type": "code",
   "execution_count": 25,
   "metadata": {},
   "outputs": [
    {
     "data": {
      "text/plain": [
       "KNeighborsClassifier(algorithm='auto', leaf_size=30, metric='minkowski',\n",
       "                     metric_params=None, n_jobs=None, n_neighbors=5, p=2,\n",
       "                     weights='uniform')"
      ]
     },
     "execution_count": 25,
     "metadata": {},
     "output_type": "execute_result"
    }
   ],
   "source": [
    "from sklearn.neighbors import KNeighborsClassifier\n",
    "#Define two binary output labels that you want to predict\n",
    "y_train_large = (y_train >= 7)\n",
    "y_train_odd = (y_train % 2 == 1)\n",
    "y_multilabel = np.c_[y_train_large, y_train_odd]\n",
    "#K-Nearest Neighbors supports multilabel classification\n",
    "knn_clf = KNeighborsClassifier()\n",
    "knn_clf.fit(X_train, y_multilabel)"
   ]
  },
  {
   "cell_type": "code",
   "execution_count": 26,
   "metadata": {},
   "outputs": [
    {
     "data": {
      "text/plain": [
       "array([[False,  True]])"
      ]
     },
     "execution_count": 26,
     "metadata": {},
     "output_type": "execute_result"
    }
   ],
   "source": [
    "knn_clf.predict([some_digit])\n",
    "# 1. If a number is large. 2. If a number is odd. "
   ]
  },
  {
   "cell_type": "markdown",
   "metadata": {},
   "source": [
    "##### Evaluation of multilabel classifier:\n",
    "- We can generate different metrics (eg - f1 score) for each of the output label and take out the average score.\n",
    "- This can be done as follows:"
   ]
  },
  {
   "cell_type": "code",
   "execution_count": 27,
   "metadata": {},
   "outputs": [
    {
     "data": {
      "text/plain": [
       "0.9773941008253076"
      ]
     },
     "execution_count": 27,
     "metadata": {},
     "output_type": "execute_result"
    }
   ],
   "source": [
    "y_train_knn_pred = cross_val_predict(knn_clf, X_train, y_multilabel, cv=3)\n",
    "f1_score(y_multilabel, y_train_knn_pred, average=\"macro\")"
   ]
  },
  {
   "cell_type": "markdown",
   "metadata": {},
   "source": [
    "- This method assumes that each and every output label is equally important.\n",
    "- If we have many more instance of a label compared to other labels, then we should give more weight to classifier's F1 score on that label.\n",
    "- This can be done by following line of code:\n",
    "    f1_score(y_multilabel, y_train_knn_pred, average=\"weighted\")"
   ]
  },
  {
   "cell_type": "markdown",
   "metadata": {},
   "source": [
    "### 7. Multioutput Classification\n",
    "- Also known as Multioutput-Multiclass Classification\n",
    "- It is just generalization of multilabel classifiers, where **each label can be non-Binary or Multiclass**.\n"
   ]
  },
  {
   "cell_type": "markdown",
   "metadata": {},
   "source": [
    "##### Great Example ( Image noise remover ):\n",
    "- Classifier's output is multilabel (one label per pixel)\n",
    "- Each label can have multiple values (0-255)"
   ]
  },
  {
   "cell_type": "code",
   "execution_count": 28,
   "metadata": {},
   "outputs": [
    {
     "data": {
      "text/plain": [
       "Text(0.5, 1.0, 'Without noise')"
      ]
     },
     "execution_count": 28,
     "metadata": {},
     "output_type": "execute_result"
    },
    {
     "data": {
      "image/png": "[encoded data removed]",
      "text/plain": [
       "<Figure size 432x288 with 2 Axes>"
      ]
     },
     "metadata": {
      "needs_background": "light"
     },
     "output_type": "display_data"
    }
   ],
   "source": [
    "# Generate noise using numpy randint.\n",
    "from numpy import random\n",
    "noise_train = random.randint(0, 100, size=(len(X_train), 784))\n",
    "noise_test = random.randint(0, 100, size=(len(X_test), 784))\n",
    "# Add noise to data\n",
    "X_train_mod = X_train+noise_train\n",
    "X_test_mod = X_test+noise_test\n",
    "y_train_mod = X_train\n",
    "y_test_mod = X_test\n",
    "# sample from noisy set and test set.\n",
    "some_index = 36000\n",
    "fig,a =  plt.subplots(1,2)\n",
    "some_digit = X_train_mod[some_index]\n",
    "some_digit_image = some_digit.reshape(28,28)\n",
    "a[0].imshow(some_digit_image, cmap = matplotlib.cm.binary, interpolation = \"nearest\")\n",
    "a[0].set_title('With noise')\n",
    "some_digit = y_train_mod[some_index]\n",
    "some_digit_image = some_digit.reshape(28,28)\n",
    "a[1].imshow(some_digit_image, cmap = matplotlib.cm.binary, interpolation = \"nearest\")\n",
    "a[1].set_title('Without noise')"
   ]
  },
  {
   "cell_type": "code",
   "execution_count": 31,
   "metadata": {},
   "outputs": [
    {
     "data": {
      "text/plain": [
       "<matplotlib.image.AxesImage at 0x1ff96755148>"
      ]
     },
     "execution_count": 31,
     "metadata": {},
     "output_type": "execute_result"
    },
    {
     "data": {
      "image/png": "[encoded data removed]",
      "text/plain": [
       "<Figure size 432x288 with 1 Axes>"
      ]
     },
     "metadata": {
      "needs_background": "light"
     },
     "output_type": "display_data"
    }
   ],
   "source": [
    "knn_clf.fit(X_train_mod, y_train_mod)\n",
    "clean_digit = knn_clf.predict([X_train_mod[some_index]])\n",
    "clean_digit_image = clean_digit.reshape(28,28)\n",
    "plt.imshow(clean_digit_image, cmap = matplotlib.cm.binary, interpolation = \"nearest\")"
   ]
  },
  {
   "cell_type": "markdown",
   "metadata": {},
   "source": [
    "###### The line between classification and regression are sometimes blurry.\n",
    "    - ex. predicting pixel intensity is more akin to regression than to classification.\n",
    "\n",
    "- Multioutput systems are not limited to clssification task.We can even create a system thatoutputs multiple labels per instance, including both class labels and value labels."
   ]
  }
 ],
 "metadata": {
  "kernelspec": {
   "display_name": "Python 3",
   "language": "python",
   "name": "python3"
  },
  "language_info": {
   "codemirror_mode": {
    "name": "ipython",
    "version": 3
   },
   "file_extension": ".py",
   "mimetype": "text/x-python",
   "name": "python",
   "nbconvert_exporter": "python",
   "pygments_lexer": "ipython3",
   "version": "3.7.6"
  }
 },
 "nbformat": 4,
 "nbformat_minor": 2
}
